{
 "cells": [
  {
   "cell_type": "markdown",
   "metadata": {},
   "source": [
    "Enrique Tonatiuh Pérez Cortés Barba"
   ]
  },
  {
   "cell_type": "markdown",
   "metadata": {},
   "source": [
    "# TAREA"
   ]
  },
  {
   "cell_type": "markdown",
   "metadata": {},
   "source": [
    "## Integración Montecarlo"
   ]
  },
  {
   "cell_type": "markdown",
   "metadata": {},
   "source": [
    "1. Realizar las siguientes integrales. Poner los resultados en una tabla cuyas filas correspondan a la cantidad de términos utilizados en la aproximación (usar 10, 100, 1000, 10000 y 100000 términos) y cuyas columnas correspondan a las funciones.\n",
    "    + $\\int_{1}^{3} e^{x}\\log(x)\\text{d}x$.\n",
    "    + $\\int_1^3 \\sin(x)\\ln(x) \\text{d}x$"
   ]
  },
  {
   "cell_type": "code",
   "execution_count": 5,
   "metadata": {},
   "outputs": [
    {
     "data": {
      "text/html": [
       "<div>\n",
       "<style scoped>\n",
       "    .dataframe tbody tr th:only-of-type {\n",
       "        vertical-align: middle;\n",
       "    }\n",
       "\n",
       "    .dataframe tbody tr th {\n",
       "        vertical-align: top;\n",
       "    }\n",
       "\n",
       "    .dataframe thead th {\n",
       "        text-align: right;\n",
       "    }\n",
       "</style>\n",
       "<table border=\"1\" class=\"dataframe\">\n",
       "  <thead>\n",
       "    <tr style=\"text-align: right;\">\n",
       "      <th></th>\n",
       "      <th>Aproximación f1</th>\n",
       "      <th>Error f1</th>\n",
       "      <th>Aproximación f2</th>\n",
       "      <th>Error f2</th>\n",
       "    </tr>\n",
       "  </thead>\n",
       "  <tbody>\n",
       "    <tr>\n",
       "      <th>10</th>\n",
       "      <td>4.064148</td>\n",
       "      <td>9.963352</td>\n",
       "      <td>0.897868</td>\n",
       "      <td>0.028024</td>\n",
       "    </tr>\n",
       "    <tr>\n",
       "      <th>100</th>\n",
       "      <td>13.553062</td>\n",
       "      <td>0.474438</td>\n",
       "      <td>0.853589</td>\n",
       "      <td>0.016255</td>\n",
       "    </tr>\n",
       "    <tr>\n",
       "      <th>1000</th>\n",
       "      <td>14.345326</td>\n",
       "      <td>0.317826</td>\n",
       "      <td>0.869499</td>\n",
       "      <td>0.000345</td>\n",
       "    </tr>\n",
       "    <tr>\n",
       "      <th>10000</th>\n",
       "      <td>13.896059</td>\n",
       "      <td>0.131441</td>\n",
       "      <td>0.873105</td>\n",
       "      <td>0.003261</td>\n",
       "    </tr>\n",
       "    <tr>\n",
       "      <th>100000</th>\n",
       "      <td>14.074816</td>\n",
       "      <td>0.047316</td>\n",
       "      <td>0.869799</td>\n",
       "      <td>0.000045</td>\n",
       "    </tr>\n",
       "  </tbody>\n",
       "</table>\n",
       "</div>"
      ],
      "text/plain": [
       "       Aproximación f1  Error f1 Aproximación f2  Error f2\n",
       "10            4.064148  9.963352        0.897868  0.028024\n",
       "100          13.553062  0.474438        0.853589  0.016255\n",
       "1000         14.345326  0.317826        0.869499  0.000345\n",
       "10000        13.896059  0.131441        0.873105  0.003261\n",
       "100000       14.074816  0.047316        0.869799  0.000045"
      ]
     },
     "execution_count": 5,
     "metadata": {},
     "output_type": "execute_result"
    }
   ],
   "source": [
    "import pandas as pd\n",
    "import numpy as np\n",
    "\n",
    "def montecarlo(f, N, a, b):\n",
    "    u = np.random.uniform(a,b,N)\n",
    "    return np.mean(f(u))*(b-a)\n",
    "\n",
    "N = [10, 100, 1000, 10000, 100000] \n",
    "table = pd.DataFrame(columns=[\"Aproximación f1\",\"Error f1\", \"Aproximación f2\",\"Error f2\"], index=N)\n",
    "\n",
    "def f1(x):\n",
    "    return np.exp(x)*np.log(x)\n",
    "\n",
    "def f2(x):\n",
    "    return np.sin(x)*np.log(x)\n",
    "\n",
    "\n",
    "for i in N:\n",
    "    table.loc[i,\"Aproximación f1\"] = montecarlo(f1, int(i), 1, 3)\n",
    "    table.loc[i,\"Aproximación f2\"] = montecarlo(f2, int(i), 1, 3)\n",
    "    \n",
    "table[\"Error f1\"] = np.abs(14.0275- table[\"Aproximación f1\"])\n",
    "table[\"Error f2\"] = np.abs(0.869844- table[\"Aproximación f2\"])\n",
    "table"
   ]
  },
  {
   "cell_type": "markdown",
   "metadata": {},
   "source": [
    "2. Aproximar el área de la región descrita por\n",
    "\n",
    "$$x^2+2y^2\\leq-2x+8y-7$$\n",
    "\n",
    "Poner los resultados en una tabla cuyas filas correspondan a la cantidad de términos utilizados en la aproximación (usar 10, 100, 1000, 10000 y 100000 términos) y en las columnas el valor de aproximación y el error relativo.\n",
    "\n",
    "Definir unos límites adecuados $a_1$, $b_1$, $a_2$ y $b_2$, para la región $R=\\left[a_1,b_1\\right]\\times\\left[a_2,b_2\\right]$"
   ]
  },
  {
   "cell_type": "code",
   "execution_count": 8,
   "metadata": {},
   "outputs": [
    {
     "data": {
      "text/html": [
       "<div>\n",
       "<style scoped>\n",
       "    .dataframe tbody tr th:only-of-type {\n",
       "        vertical-align: middle;\n",
       "    }\n",
       "\n",
       "    .dataframe tbody tr th {\n",
       "        vertical-align: top;\n",
       "    }\n",
       "\n",
       "    .dataframe thead th {\n",
       "        text-align: right;\n",
       "    }\n",
       "</style>\n",
       "<table border=\"1\" class=\"dataframe\">\n",
       "  <thead>\n",
       "    <tr style=\"text-align: right;\">\n",
       "      <th></th>\n",
       "      <th>Aproximación</th>\n",
       "      <th>Error</th>\n",
       "    </tr>\n",
       "  </thead>\n",
       "  <tbody>\n",
       "    <tr>\n",
       "      <th>10</th>\n",
       "      <td>4.5</td>\n",
       "      <td>1.0</td>\n",
       "    </tr>\n",
       "    <tr>\n",
       "      <th>100</th>\n",
       "      <td>3.87</td>\n",
       "      <td>1.151339</td>\n",
       "    </tr>\n",
       "    <tr>\n",
       "      <th>1000</th>\n",
       "      <td>4.842</td>\n",
       "      <td>0.92668</td>\n",
       "    </tr>\n",
       "    <tr>\n",
       "      <th>10000</th>\n",
       "      <td>4.3884</td>\n",
       "      <td>1.025115</td>\n",
       "    </tr>\n",
       "    <tr>\n",
       "      <th>100000</th>\n",
       "      <td>4.43628</td>\n",
       "      <td>1.014262</td>\n",
       "    </tr>\n",
       "  </tbody>\n",
       "</table>\n",
       "</div>"
      ],
      "text/plain": [
       "       Aproximación     Error\n",
       "10              4.5       1.0\n",
       "100            3.87  1.151339\n",
       "1000          4.842   0.92668\n",
       "10000        4.3884  1.025115\n",
       "100000      4.43628  1.014262"
      ]
     },
     "execution_count": 8,
     "metadata": {},
     "output_type": "execute_result"
    }
   ],
   "source": [
    "import matplotlib.pyplot as plt\n",
    "%matplotlib inline\n",
    "\n",
    "def montecarlo2(region, ax, bx, ay, by, N):\n",
    "    x = np.random.uniform(ax, bx, N)\n",
    "    y = np.random.uniform(ay, by, N)\n",
    "    B = region(x, y)\n",
    "    AR = (bx - ax)*(by -ay)\n",
    "    return np.mean(B)*AR\n",
    "\n",
    "def bernoulli(x,y):\n",
    "    return (x**2 + 2*y**2 <= -2*x + 8*y - 7)\n",
    "\n",
    "def error_relativo(AD, AR) :\n",
    "    return(np.sqrt((1-AD/AR)/(AD/AR)))\n",
    "\n",
    "AR = (0.5 - (-2.5))*(3 -0)\n",
    "\n",
    "N = [10, 100, 1000, 10000, 100000] \n",
    "table1 = pd.DataFrame(columns=[\"Aproximación\",\"Error\"], index=N)\n",
    "for i in N:\n",
    "    AD = montecarlo2(bernoulli, -2.5, 0.5, 0, 3, int(i))\n",
    "    table1.loc[i,\"Aproximación\"] = AD\n",
    "    table1.loc[i,\"Error\"] = error_relativo(AD, AR)\n",
    "    \n",
    "table1"
   ]
  },
  {
   "cell_type": "code",
   "execution_count": 6,
   "metadata": {},
   "outputs": [
    {
     "data": {
      "text/plain": [
       "<matplotlib.collections.PathCollection at 0x1e05b33ef70>"
      ]
     },
     "execution_count": 6,
     "metadata": {},
     "output_type": "execute_result"
    },
    {
     "data": {
      "image/png": "[encoded data removed]",
      "text/plain": [
       "<Figure size 432x288 with 1 Axes>"
      ]
     },
     "metadata": {
      "needs_background": "light"
     },
     "output_type": "display_data"
    }
   ],
   "source": [
    "x = np.random.uniform(-2.5, 0.5, 100)\n",
    "y = np.random.uniform(0, 3.1, 100)\n",
    "X,Y = np.meshgrid(x,y)\n",
    "\n",
    "plt.figure()\n",
    "plt.scatter(X, Y, c=~bernoulli(X,Y))"
   ]
  },
  {
   "cell_type": "markdown",
   "metadata": {},
   "source": [
    "3. Describe 3 casos de uso de integración Montecarlo en tu ingeniería."
   ]
  },
  {
   "cell_type": "markdown",
   "metadata": {},
   "source": [
    "**1. Valuación de opciones europeas**\n",
    "\n",
    "En finanzas matemáticas un problema frecuente es el valuar instrumentos financieros cuyos rendimientos son aleatorios. Por ejemplo los instrumentos de renta variable, las inversiones en la bolsa o los derivados, cuyos rendimientos dependen del comportamiento de una acción o de un bien como el oro o el petróleo.\n",
    "\n",
    "En este particular caso se valúan opciones europeas, una opción europea es un contrato entre dos personas para adquirir o vender un bien o un activo llamado subyacente a un precio y en una fecha fijados de antemano. A la fecha se le llama fecha de maduración y al precio se le conoce como precio de ejercicio. Si la opción es de compra se llama un call, si es de venta se llama un put.\n",
    "\n",
    "En una opción siempre hay dos partes: por un lado, quien compra la opción y por otro quien la suscribe. El primero adquiere el derecho, pero no la obligación, de ejercer la opción en la fecha de maduración, en cambio, la contra-parte se obliga a cumplir el contrato, independientemente de o que convenga a sus intereses.\n",
    "\n",
    "Aquí se utiliza la integración montecarlo para calcular una integral que arroja la valuación de la opción europea.\n",
    "\n",
    "Referencia:\n",
    "Saavedra, P. & Ibarra, V. (s. f.). *El método Monte-Carlo y su aplicación a finanzas*. Universidad Autónoma Metropolitana. http://mat.izt.uam.mx/mat/documentos/notas%20de%20clase/cfenaoe3.pdf"
   ]
  },
  {
   "cell_type": "markdown",
   "metadata": {},
   "source": [
    "**2. Valuación de opciones asiáticas**\n",
    "\n",
    "Las opciones europeas dependen sólo del valor que tiene el subyacente (activo real o financiero en el que se basan) en el instante que se ejerce. Por ejemplo, para el caso de una opción europea, si al final del tiempo de maduración el precio sufre un cambio fuerte, la opción cambiaría bruscamente. Una forma de evitar estos cambios repentinos en el precio de la opción, es suscribir un contrato sobre el valor promedio del precio del subyacente.\n",
    "\n",
    "El hecho de que el pago en el momento de ejercicio dependa de una media, posibilita muchos usos para este tipo de opciones. Debido a que fue el Banco Trust de Tokio la primera institución financiera que ofreció este tipo de opciones, se les denomina opciones asiáticas.\n",
    "\n",
    "Aquí se utiliza la integración montecarlo para calcular una integral que arroja la valuación de la opción asiática.\n",
    "\n",
    "Referencia:\n",
    "Saavedra, P. & Ibarra, V. (s. f.). *El método Monte-Carlo y su aplicación a finanzas*. Universidad Autónoma Metropolitana. http://mat.izt.uam.mx/mat/documentos/notas%20de%20clase/cfenaoe3.pdf"
   ]
  },
  {
   "cell_type": "markdown",
   "metadata": {},
   "source": [
    "**3. Evalaución de la cartera**\n",
    "\n",
    "Se le conoce como portafolio o cartera de inversiones al conjunto de activos financieros que están en propiedad de un inversionista. Puede incluir bonos, acciones, monedas, efectivo, materias primas, productos derivados y muchos activos más.\n",
    "\n",
    "Los métodos de Monte Carlo se utilizan para la evaluación de la cartera. Aquí, para cada muestra, se simula el comportamiento correlacionado de los factores que impactan en los instrumentos que componen la cartera a lo largo del tiempo, se calcula el valor resultante de cada instrumento y luego se observa el valor de la cartera. Se utiliza un enfoque similar para calcular el valor en riesgo, una aplicación más conocida de la simulación a las carteras.\n",
    "\n",
    "Referencia:\n",
    "tok.wiki. (s. f.). *Métodos de Monte Carlo en finanzas Descripción general y Aplicabilidad*. https://hmong.es/wiki/Monte_Carlo_methods_in_finance"
   ]
  },
  {
   "cell_type": "code",
   "execution_count": null,
   "metadata": {},
   "outputs": [],
   "source": []
  }
 ],
 "metadata": {
  "kernelspec": {
   "display_name": "Python 3 (ipykernel)",
   "language": "python",
   "name": "python3"
  },
  "language_info": {
   "codemirror_mode": {
    "name": "ipython",
    "version": 3
   },
   "file_extension": ".py",
   "mimetype": "text/x-python",
   "name": "python",
   "nbconvert_exporter": "python",
   "pygments_lexer": "ipython3",
   "version": "3.9.12"
  }
 },
 "nbformat": 4,
 "nbformat_minor": 2
}
