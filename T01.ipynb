{
 "cells": [
  {
   "cell_type": "markdown",
   "id": "2b00055a",
   "metadata": {},
   "source": [
    "# T01 - Markdown"
   ]
  },
  {
   "cell_type": "markdown",
   "id": "838f7923",
   "metadata": {},
   "source": [
    "## Acerca de mí"
   ]
  },
  {
   "cell_type": "markdown",
   "id": "1b757060",
   "metadata": {},
   "source": [
    "Mi nombre es Enrique Tonatiuh Pérez Cortés Barba, tengo 20 años, actualmente curso el tercer semestre de la carrera de ingeniería financiera, me gusta escuchar música, salir con mis amigos, jugar videojuegos y ver deportes.  \n",
    "\n",
    "También disfruto ver películas y series. Mis géneros favoritos en orden son:\n",
    "1. Ciencia Ficción\n",
    "2. Acción\n",
    "3. Género de Superheroes\n",
    "4. Drama\n",
    "5. Comedia\n",
    "\n",
    "Esta materia me emociona debido a que soy tecnólogo en desarrollo de software, entonces el resolver problemas utilizando la programación es algo que he enfrentado antes, pero siempre es emocionante el desarrollar diferentes soluciones, además soy algo nuevo en el lenguaje de Python ya que solo lo ví el semestre pasado."
   ]
  },
  {
   "cell_type": "markdown",
   "id": "3f531c85",
   "metadata": {},
   "source": [
    "## Tema de mí carrera"
   ]
  },
  {
   "cell_type": "markdown",
   "id": "f33cb861",
   "metadata": {},
   "source": [
    "### Análisis técnico"
   ]
  },
  {
   "cell_type": "markdown",
   "id": "87825000",
   "metadata": {},
   "source": [
    "Es el estudio y revisión de las gráficas de alguna empresa, con el objetivo de predecir futuros comportamientos en el precio para saber si es factible invertir o no."
   ]
  },
  {
   "cell_type": "markdown",
   "id": "353782d9",
   "metadata": {},
   "source": [
    "**Tendencias en la gráfica**"
   ]
  },
  {
   "cell_type": "markdown",
   "id": "bd148b08",
   "metadata": {},
   "source": [
    "- Alcista *(las acciones tienen un visible crecimiento con el tiempo)*\n",
    "- Bajista *(las acciones tienen un visible decrecimiento con el tiempo)*"
   ]
  },
  {
   "cell_type": "markdown",
   "id": "89d0e46a",
   "metadata": {},
   "source": [
    "![](https://brokeropiniones.com/wp-content/uploads/Tendencias-Chart.jpg)"
   ]
  },
  {
   "cell_type": "markdown",
   "id": "1fdda470",
   "metadata": {},
   "source": [
    "**Velas japonesas**"
   ]
  },
  {
   "cell_type": "markdown",
   "id": "366100f7",
   "metadata": {},
   "source": [
    "Una vela japonesa es una interpretación del precio en un periodo de tiempo determinado.\n",
    "\n",
    "Las velas de color verde indican tendencia alcista y las rojas bajista."
   ]
  },
  {
   "cell_type": "markdown",
   "id": "41ae68b7",
   "metadata": {},
   "source": [
    "![](https://d31dn7nfpuwjnm.cloudfront.net/images/valoraciones/0035/0526/velas-japonesas-trading.png?1568064333)"
   ]
  },
  {
   "cell_type": "markdown",
   "id": "d6336a84",
   "metadata": {},
   "source": [
    "**Patrones en la gráfica**"
   ]
  },
  {
   "cell_type": "markdown",
   "id": "788d0dd6",
   "metadata": {},
   "source": [
    "*Doble y triple piso*\n",
    "- Patrones que nos muestran posible cambio de tendencia bajista a alcista.\n",
    "- Deben respetar la línea de cuello (neckline) como piso para confirmación del patrón.\n",
    "- El triple piso es una confirmación más segura que el doble piso.\n",
    "\n",
    "![](https://1.bp.blogspot.com/_xqXvWY5IUqc/StI6_i7eYcI/AAAAAAAAAIc/FQj3nTrwwxc/s320/doble+suelo2.JPG)\n",
    "<em><center>Doble piso</center></em>\n",
    "\n",
    "![](https://www.ismaeldelacruzfinanzas.com/wp-content/uploads/2021/08/d4-1.png)\n",
    "<em><center>Triple piso</center></em>"
   ]
  },
  {
   "attachments": {},
   "cell_type": "markdown",
   "id": "e12728fe",
   "metadata": {},
   "source": [
    "*Doble y triple techo*\n",
    "- Patrones que nos muestran posible cambio de tendencia alcista a bajista.\n",
    "- Deben respetar la línea de cuello (neckline) como techo para confirmación del patrón.\n",
    "- El triple techo es una confirmación más segura que el doble techo.\n",
    "\n",
    "![](https://www.ismaeldelacruzfinanzas.com/wp-content/uploads/2021/08/b2-2.png)\n",
    "<em><center>Doble techo</center></em>\n",
    "\n",
    "![](https://www.tecnicasdetrading.com/wp-content/uploads/2009/10/patron-triple-techo.jpg.webp)\n",
    "<em><center>Triple techo</center></em>"
   ]
  },
  {
   "attachments": {},
   "cell_type": "markdown",
   "id": "9dbdf491",
   "metadata": {},
   "source": [
    "*Hombro-cabeza-hombro*\n",
    "- Patrón que nos muestra posible cambio de tendencia.\n",
    "- Debe respetar la línea de cuello (clavícula) para confirmación del patrón.\n",
    "\n",
    "![](https://encrypted-tbn0.gstatic.com/images?q=tbn:ANd9GcSOjPUtZ5rgVyGxa9K3ov1mM1kAhvl9zaoBzw&usqp=CAU)\n",
    "<em><center>Bajista</center></em>\n",
    "\n",
    "![](http://3.bp.blogspot.com/_xqXvWY5IUqc/StJIWQh97eI/AAAAAAAAAJs/KNS4RsXfp6Y/s320/hombro+cabeza+hombro,+invertido.JPG)\n",
    "<em><center>Alcista</center></em>"
   ]
  },
  {
   "cell_type": "markdown",
   "id": "5af64e45",
   "metadata": {},
   "source": [
    "### Ejemplo de ecuación"
   ]
  },
  {
   "cell_type": "markdown",
   "id": "b9934312",
   "metadata": {},
   "source": [
    "Una función se puede representar como $ y=ax+b $"
   ]
  }
 ],
 "metadata": {
  "kernelspec": {
   "display_name": "Python 3 (ipykernel)",
   "language": "python",
   "name": "python3"
  },
  "language_info": {
   "codemirror_mode": {
    "name": "ipython",
    "version": 3
   },
   "file_extension": ".py",
   "mimetype": "text/x-python",
   "name": "python",
   "nbconvert_exporter": "python",
   "pygments_lexer": "ipython3",
   "version": "3.9.12"
  }
 },
 "nbformat": 4,
 "nbformat_minor": 5
}
