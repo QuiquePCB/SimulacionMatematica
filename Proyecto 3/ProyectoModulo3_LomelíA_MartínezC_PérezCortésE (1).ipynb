{
 "cells": [
  {
   "cell_type": "markdown",
   "id": "71d540cf",
   "metadata": {},
   "source": [
    "# Modelo para la formación de producto de una reacción tipo: A+B=C"
   ]
  },
  {
   "cell_type": "markdown",
   "id": "fb8e75f1",
   "metadata": {},
   "source": [
    "- Antonio Lomelí Ureña\n",
    "- Carolina Martínez Escalante \n",
    "- Enrique Tonatiuh Pérez Cortés Barba"
   ]
  },
  {
   "cell_type": "markdown",
   "id": "87608e19",
   "metadata": {},
   "source": [
    "## Objetivos"
   ]
  },
  {
   "cell_type": "markdown",
   "id": "f9a95b9d",
   "metadata": {},
   "source": [
    "> #### 1.1 Objetivo general.\n",
    ">  - Obtener el resultado en moles de la formación de un producto de una reacción tipo: A+B=C.\n",
    "\n",
    "> #### 1.2 Objetivos específicos\n",
    ">  - Plantear un caso práctico en el que se utiliza el modelo para la formación de producto de una reacción tipo: A+B=C.\n",
    ">  - Demostrar el funcionamiento del modelo resolviendo el caso práctico utilizando la herramienta solve_ivp. \n",
    ">  - Ofrecer una visualización de los resultados obtenidos a través de una gráfica. \n",
    ">  - Analizar los resultados obtenidos para proponer una resolución acertada del caso propuesto. \n"
   ]
  },
  {
   "cell_type": "markdown",
   "id": "d8ce0063",
   "metadata": {},
   "source": [
    "### Introducción"
   ]
  },
  {
   "cell_type": "markdown",
   "id": "7ec19953",
   "metadata": {},
   "source": [
    "Los metales alcalinotérreos son elementos sumamente reactivos, es difícil encontrarlos aislados en la naturaleza y suelen reaccionar con el agua en forma violenta (1). Sin embargo, las reacciones entre algunos uno de ellos o compuestos de ellos y el agua son muy ilustrativas. Además, se utilizan en sustancias que los tienen como elementos, como el hidróxido de sodio, con relativa frecuencia en prácticas de laboratorio. \n",
    "\n",
    "Muchas veces estas reacciones liberan una gran cantidad de energía en forma de calor y pueden presentar un riesgo para el material o las personas que realizan la prueba. Empíricamente una persona puede saber bajo qué condiciones la reacción es riesgosa; sin embargo, hay modelos y herramientas que nos ayudan a determinar estas características.\n",
    "\n",
    "Supongamos que somos los encargados del laboratorio de una universidad y vamos a diseñar una práctica. Queremos que óxido de calcio reaccione con agua para formar hidróxido de calcio, pero sabemos que es una reacción que puede calentar mucho el matraz, el material donde se lleva a cabo.\n",
    "\n",
    "Para prevenir esto debemos de saber hasta qué cantidad de óxido de calcio podemos mezclar sin que representa un riesgo. Supongamos que si se forman más de 0.3 moles de hidróxido de calcio en los primeros 0.3 segundos de reacción, la reacción se volverá riesgosa.\n",
    "\n",
    "La cantidad de agua que se usará para el experimento es de 150 ml y sabe que hay un modelo que describe la rapidez de reacción de una sustancia C formada a partir de dos sustancias A y B. \n",
    "\n",
    "   $$ y'(t)=k[\\alpha-A(t)][\\beta-B(t)] $$\n",
    "   \n",
    "Usando el modelo queremos saber cuántos gramos de óxido de calcio se pueden usar como reactivo bajo estas condiciones."
   ]
  },
  {
   "cell_type": "markdown",
   "id": "765d4b9b",
   "metadata": {},
   "source": [
    "### Modelo que representa el problema\n"
   ]
  },
  {
   "cell_type": "markdown",
   "id": "73bd6e5a",
   "metadata": {},
   "source": [
    "La ecuación que vamos a solucionar es la siguiente:\n",
    "   $$ y'(t)=k[\\alpha-A(t)][\\beta-B(t)] $$\n",
    "donde \n",
    "- $y'(t)$ representa la velocidad de reacción, queremos conocer $Y(t)$ que representaría la cantidad de producto C con respecto al tiempo\n",
    "- $k$ es una constante que va de 0 a 1\n",
    "- $\\alpha$ es la cantidad total del reactivo A en la reacción\n",
    "- $\\beta$ es la cantidad total del reactivo B en la reacción\n",
    "- $A(t)$ representa lo que se ha consumido de reactivo A con respecto al tiempo\n",
    "- $B(t)$ representa lo que se ha consumido de reactivo B con respecto al tiempo\n",
    "\n",
    "Escribimos en código la ecuación diferencial de la que parte el modelo:"
   ]
  },
  {
   "cell_type": "code",
   "execution_count": 4,
   "id": "87d212b7",
   "metadata": {},
   "outputs": [],
   "source": [
    "def f(t,X,alf,bet,k):\n",
    "    a1=X[0]\n",
    "    b1=X[1]\n",
    "    \n",
    "    return k*(alf-a1)*(bet-b1)"
   ]
  },
  {
   "cell_type": "markdown",
   "id": "686dc604",
   "metadata": {},
   "source": [
    "Entendemos que una de sus limitaciones es que A(t) y B(t) tendrán el mismo comportamiento para nuestra solución, asumirá que se consumen a la misma velocidad."
   ]
  },
  {
   "cell_type": "markdown",
   "id": "ffe1f9a4",
   "metadata": {},
   "source": [
    "### Simulaciones\n",
    "#### Solución del problema\n"
   ]
  },
  {
   "cell_type": "markdown",
   "id": "ee01581f",
   "metadata": {},
   "source": [
    "1. Nuestras condiciones iniciales siempre serán cero, porque en el tiempo cero no se ha consumido ninguna cantidad del reactivo A o B. \n",
    "\n",
    "2. La concentración del reactivo B (agua) será constante porque la cantidad que se tiene contemplada para el recipiente es de 150 ml. \n",
    "\n",
    "3. k será de 0.9 porque suponemos que el 90% de lo que se va consumiendo de reactivos formará el producto\n",
    "\n",
    "4. Se simulará para 0.2 moles de reactivo A (óxido de calcio), para 0.3 moles, 0.35, 0.45 y 0.50 moles"
   ]
  },
  {
   "cell_type": "code",
   "execution_count": 5,
   "id": "5f6bbeb7",
   "metadata": {},
   "outputs": [],
   "source": [
    "import pandas as pd\n",
    "import numpy as np\n",
    "import matplotlib.pyplot as plt\n",
    "from scipy.integrate import solve_ivp"
   ]
  },
  {
   "cell_type": "code",
   "execution_count": 6,
   "id": "16f8655a",
   "metadata": {},
   "outputs": [],
   "source": [
    "k=0.9\n",
    "bet=8.3\n",
    "a0=[0,0,0,0,0] # Las condiciones iniciales, a(0) y b(0)\n",
    "A=[0.2,0.3,0.35,0.45,0.50] # esta lista representa las concentraciones totales del reactivo A, los moles de óxido de calcio\n",
    "\n",
    "soluciones=[]\n",
    "tiempos=[]\n",
    "\n",
    "for s in range(5):\n",
    "\n",
    "    X=np.array([a0[s],a0[s]])\n",
    "\n",
    "    alf=A[s]\n",
    "\n",
    "    t=[0,0.3]\n",
    "\n",
    "    sol=solve_ivp(f,t,X,args=(alf,bet,k,),max_step=0.009)\n",
    "\n",
    "    soluciones.append(sol.y[0,:])\n",
    "    tiempos.append(sol.t)"
   ]
  },
  {
   "cell_type": "markdown",
   "id": "96f04fa5",
   "metadata": {},
   "source": [
    "### Visualización de la solución del problema"
   ]
  },
  {
   "cell_type": "code",
   "execution_count": 7,
   "id": "82832cc1",
   "metadata": {
    "scrolled": false
   },
   "outputs": [
    {
     "data": {
      "text/plain": [
       "<matplotlib.legend.Legend at 0x1783d885550>"
      ]
     },
     "execution_count": 7,
     "metadata": {},
     "output_type": "execute_result"
    },
    {
     "data": {
      "image/png": "[encoded data removed]",
      "text/plain": [
       "<Figure size 432x288 with 1 Axes>"
      ]
     },
     "metadata": {
      "needs_background": "light"
     },
     "output_type": "display_data"
    }
   ],
   "source": [
    "plt.figure()\n",
    "nombres=['0.2 mol', '0.3 mol', '0.35 mol' ,'0.45 mol' ,'0.50 mol']\n",
    "\n",
    "for i in range(5):\n",
    "    \n",
    "    plt.plot(tiempos[i],soluciones[i],label=nombres[i])\n",
    "\n",
    "plt.grid()\n",
    "plt.legend(loc='best')"
   ]
  },
  {
   "cell_type": "markdown",
   "id": "bf580e63",
   "metadata": {},
   "source": [
    "Observamos que cuando se mezclan 0.35 moles de óxido de calcio se pasa la barrera de los 0.3 moles formados de C. Entonces, sabiendo que la masa molar del óxido de calcio es de 56 gr/mol, obtenemos que si usamos más de 19 gr (aprox.) de óxido de calcio y lo mezclamos con 150 ml de agua la reacción calentará mucho el vidrio del recipiente."
   ]
  },
  {
   "cell_type": "markdown",
   "id": "04a00840",
   "metadata": {},
   "source": [
    "### Conclusiones"
   ]
  },
  {
   "cell_type": "markdown",
   "id": "9241452c",
   "metadata": {},
   "source": [
    "1. El caso planteado ayudó a ejemplificar el modelo expuesto.\n",
    "2. Gracias a la herramienta solve_ivp se logró resolver el problema planteado.\n",
    "3. Cada uno de los resultados obtenidos fue expuesto gráficamente de una manera que resultaron fáciles de interpretar a simple vista. \n",
    "4. Con los resultados obtenidos se puede concluir que no se pude mezclar más de 0.35 moles  (19 gr aprox.) de óxido de calcio con 150 ml de agua ya que si se realiza el calor desprendido de esa reacción podría ser dañino para los materiales y las personas. \n",
    "5. Resolver ecuaciones diferenciales por medio de simulaciones y soluciones numéricas es muy eficiente y sencillo. "
   ]
  },
  {
   "cell_type": "markdown",
   "id": "1557f90a",
   "metadata": {},
   "source": [
    "### Referencias"
   ]
  },
  {
   "cell_type": "markdown",
   "id": "82cbc326",
   "metadata": {},
   "source": [
    "> - (1) IES Eduardo Pondal. Reactividad de los metales alcalinos. Recuperado de: http://www.edu.xunta.gal/centros/ieseduardopondalponteceso/node/370\n",
    "> - UNIVERSIDAD DE PAMPLONA FACULTAD DE CIENCIAS BASICAS. (s. f.). PROYECTO DE QUÍMICA. Recuperado 30 de noviembre de 2022, de https://www.unipamplona.edu.co/unipamplona/portalIG/home_155/recursos/general/06112017/quimica.pdf"
   ]
  }
 ],
 "metadata": {
  "kernelspec": {
   "display_name": "Python 3 (ipykernel)",
   "language": "python",
   "name": "python3"
  },
  "language_info": {
   "codemirror_mode": {
    "name": "ipython",
    "version": 3
   },
   "file_extension": ".py",
   "mimetype": "text/x-python",
   "name": "python",
   "nbconvert_exporter": "python",
   "pygments_lexer": "ipython3",
   "version": "3.9.12"
  }
 },
 "nbformat": 4,
 "nbformat_minor": 5
}
