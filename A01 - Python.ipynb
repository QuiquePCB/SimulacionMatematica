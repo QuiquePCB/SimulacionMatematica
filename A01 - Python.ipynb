{
 "cells": [
  {
   "cell_type": "markdown",
   "id": "d9d57dab",
   "metadata": {},
   "source": [
    "Enrique Tonatiuh Pérez Cortés Barba 739547"
   ]
  },
  {
   "cell_type": "markdown",
   "id": "69ff2393",
   "metadata": {},
   "source": [
    "# A01 - Python"
   ]
  },
  {
   "cell_type": "markdown",
   "id": "81866c30",
   "metadata": {},
   "source": [
    "- Genera una lista de 100 elementos con múltiplos de 3. E.g. [3, 6, 9, ...]"
   ]
  },
  {
   "cell_type": "code",
   "execution_count": 4,
   "id": "9f690df3",
   "metadata": {},
   "outputs": [
    {
     "name": "stdout",
     "output_type": "stream",
     "text": [
      "[3, 6, 9, 12, 15, 18, 21, 24, 27, 30, 33, 36, 39, 42, 45, 48, 51, 54, 57, 60, 63, 66, 69, 72, 75, 78, 81, 84, 87, 90, 93, 96, 99, 102, 105, 108, 111, 114, 117, 120, 123, 126, 129, 132, 135, 138, 141, 144, 147, 150, 153, 156, 159, 162, 165, 168, 171, 174, 177, 180, 183, 186, 189, 192, 195, 198, 201, 204, 207, 210, 213, 216, 219, 222, 225, 228, 231, 234, 237, 240, 243, 246, 249, 252, 255, 258, 261, 264, 267, 270, 273, 276, 279, 282, 285, 288, 291, 294, 297, 300]\n"
     ]
    }
   ],
   "source": [
    "multiplo= 0\n",
    "lista=[]\n",
    "for i in range(100):\n",
    "    multiplo = multiplo+3\n",
    "    lista.append(multiplo)\n",
    "print(lista)"
   ]
  },
  {
   "cell_type": "markdown",
   "id": "8aa29f0b",
   "metadata": {},
   "source": [
    "- Toma el archivo datosPE.xlsx y calcula el índice de masa corporal de cada persona."
   ]
  },
  {
   "cell_type": "code",
   "execution_count": 6,
   "id": "97129b28",
   "metadata": {},
   "outputs": [
    {
     "data": {
      "text/html": [
       "<div>\n",
       "<style scoped>\n",
       "    .dataframe tbody tr th:only-of-type {\n",
       "        vertical-align: middle;\n",
       "    }\n",
       "\n",
       "    .dataframe tbody tr th {\n",
       "        vertical-align: top;\n",
       "    }\n",
       "\n",
       "    .dataframe thead th {\n",
       "        text-align: right;\n",
       "    }\n",
       "</style>\n",
       "<table border=\"1\" class=\"dataframe\">\n",
       "  <thead>\n",
       "    <tr style=\"text-align: right;\">\n",
       "      <th></th>\n",
       "      <th>ID Persona</th>\n",
       "      <th>Peso</th>\n",
       "      <th>Estatura</th>\n",
       "      <th>IMC</th>\n",
       "    </tr>\n",
       "  </thead>\n",
       "  <tbody>\n",
       "    <tr>\n",
       "      <th>0</th>\n",
       "      <td>1</td>\n",
       "      <td>67</td>\n",
       "      <td>1.41</td>\n",
       "      <td>47.517730</td>\n",
       "    </tr>\n",
       "    <tr>\n",
       "      <th>1</th>\n",
       "      <td>2</td>\n",
       "      <td>99</td>\n",
       "      <td>1.83</td>\n",
       "      <td>54.098361</td>\n",
       "    </tr>\n",
       "    <tr>\n",
       "      <th>2</th>\n",
       "      <td>3</td>\n",
       "      <td>86</td>\n",
       "      <td>1.90</td>\n",
       "      <td>45.263158</td>\n",
       "    </tr>\n",
       "    <tr>\n",
       "      <th>3</th>\n",
       "      <td>4</td>\n",
       "      <td>118</td>\n",
       "      <td>1.65</td>\n",
       "      <td>71.515152</td>\n",
       "    </tr>\n",
       "    <tr>\n",
       "      <th>4</th>\n",
       "      <td>5</td>\n",
       "      <td>109</td>\n",
       "      <td>1.67</td>\n",
       "      <td>65.269461</td>\n",
       "    </tr>\n",
       "    <tr>\n",
       "      <th>...</th>\n",
       "      <td>...</td>\n",
       "      <td>...</td>\n",
       "      <td>...</td>\n",
       "      <td>...</td>\n",
       "    </tr>\n",
       "    <tr>\n",
       "      <th>95</th>\n",
       "      <td>96</td>\n",
       "      <td>88</td>\n",
       "      <td>1.49</td>\n",
       "      <td>59.060403</td>\n",
       "    </tr>\n",
       "    <tr>\n",
       "      <th>96</th>\n",
       "      <td>97</td>\n",
       "      <td>98</td>\n",
       "      <td>1.54</td>\n",
       "      <td>63.636364</td>\n",
       "    </tr>\n",
       "    <tr>\n",
       "      <th>97</th>\n",
       "      <td>98</td>\n",
       "      <td>95</td>\n",
       "      <td>1.57</td>\n",
       "      <td>60.509554</td>\n",
       "    </tr>\n",
       "    <tr>\n",
       "      <th>98</th>\n",
       "      <td>99</td>\n",
       "      <td>61</td>\n",
       "      <td>1.61</td>\n",
       "      <td>37.888199</td>\n",
       "    </tr>\n",
       "    <tr>\n",
       "      <th>99</th>\n",
       "      <td>100</td>\n",
       "      <td>107</td>\n",
       "      <td>1.62</td>\n",
       "      <td>66.049383</td>\n",
       "    </tr>\n",
       "  </tbody>\n",
       "</table>\n",
       "<p>100 rows × 4 columns</p>\n",
       "</div>"
      ],
      "text/plain": [
       "    ID Persona  Peso  Estatura        IMC\n",
       "0            1    67      1.41  47.517730\n",
       "1            2    99      1.83  54.098361\n",
       "2            3    86      1.90  45.263158\n",
       "3            4   118      1.65  71.515152\n",
       "4            5   109      1.67  65.269461\n",
       "..         ...   ...       ...        ...\n",
       "95          96    88      1.49  59.060403\n",
       "96          97    98      1.54  63.636364\n",
       "97          98    95      1.57  60.509554\n",
       "98          99    61      1.61  37.888199\n",
       "99         100   107      1.62  66.049383\n",
       "\n",
       "[100 rows x 4 columns]"
      ]
     },
     "execution_count": 6,
     "metadata": {},
     "output_type": "execute_result"
    }
   ],
   "source": [
    "import pandas as pd\n",
    "data = pd.read_excel(\"datosPE.xlsx\")\n",
    "data[\"IMC\"]=data[\"Peso\"]/data[\"Estatura\"]\n",
    "data"
   ]
  },
  {
   "cell_type": "markdown",
   "id": "72125ce5",
   "metadata": {},
   "source": [
    "- Toma el archivo datosCT.xlsx y\n",
    "    - Calcula la Utilidad (Ingreso - Gasto)"
   ]
  },
  {
   "cell_type": "code",
   "execution_count": 9,
   "id": "6a8ab8cc",
   "metadata": {},
   "outputs": [
    {
     "data": {
      "text/html": [
       "<div>\n",
       "<style scoped>\n",
       "    .dataframe tbody tr th:only-of-type {\n",
       "        vertical-align: middle;\n",
       "    }\n",
       "\n",
       "    .dataframe tbody tr th {\n",
       "        vertical-align: top;\n",
       "    }\n",
       "\n",
       "    .dataframe thead th {\n",
       "        text-align: right;\n",
       "    }\n",
       "</style>\n",
       "<table border=\"1\" class=\"dataframe\">\n",
       "  <thead>\n",
       "    <tr style=\"text-align: right;\">\n",
       "      <th></th>\n",
       "      <th>Unnamed: 0</th>\n",
       "      <th>Ingreso</th>\n",
       "      <th>Gasto</th>\n",
       "      <th>Utilidad</th>\n",
       "    </tr>\n",
       "  </thead>\n",
       "  <tbody>\n",
       "    <tr>\n",
       "      <th>0</th>\n",
       "      <td>Enero</td>\n",
       "      <td>1340</td>\n",
       "      <td>1880</td>\n",
       "      <td>-540</td>\n",
       "    </tr>\n",
       "    <tr>\n",
       "      <th>1</th>\n",
       "      <td>Febrero</td>\n",
       "      <td>2590</td>\n",
       "      <td>3130</td>\n",
       "      <td>-540</td>\n",
       "    </tr>\n",
       "    <tr>\n",
       "      <th>2</th>\n",
       "      <td>Marzo</td>\n",
       "      <td>3570</td>\n",
       "      <td>2140</td>\n",
       "      <td>1430</td>\n",
       "    </tr>\n",
       "    <tr>\n",
       "      <th>3</th>\n",
       "      <td>Abril</td>\n",
       "      <td>4450</td>\n",
       "      <td>3370</td>\n",
       "      <td>1080</td>\n",
       "    </tr>\n",
       "    <tr>\n",
       "      <th>4</th>\n",
       "      <td>Mayo</td>\n",
       "      <td>1330</td>\n",
       "      <td>2990</td>\n",
       "      <td>-1660</td>\n",
       "    </tr>\n",
       "    <tr>\n",
       "      <th>5</th>\n",
       "      <td>Junio</td>\n",
       "      <td>1610</td>\n",
       "      <td>1970</td>\n",
       "      <td>-360</td>\n",
       "    </tr>\n",
       "    <tr>\n",
       "      <th>6</th>\n",
       "      <td>Julio</td>\n",
       "      <td>1500</td>\n",
       "      <td>2230</td>\n",
       "      <td>-730</td>\n",
       "    </tr>\n",
       "    <tr>\n",
       "      <th>7</th>\n",
       "      <td>Agosto</td>\n",
       "      <td>2270</td>\n",
       "      <td>1240</td>\n",
       "      <td>1030</td>\n",
       "    </tr>\n",
       "    <tr>\n",
       "      <th>8</th>\n",
       "      <td>Septiembre</td>\n",
       "      <td>1910</td>\n",
       "      <td>1470</td>\n",
       "      <td>440</td>\n",
       "    </tr>\n",
       "    <tr>\n",
       "      <th>9</th>\n",
       "      <td>Octubre</td>\n",
       "      <td>2120</td>\n",
       "      <td>2280</td>\n",
       "      <td>-160</td>\n",
       "    </tr>\n",
       "    <tr>\n",
       "      <th>10</th>\n",
       "      <td>Noviembre</td>\n",
       "      <td>3950</td>\n",
       "      <td>1870</td>\n",
       "      <td>2080</td>\n",
       "    </tr>\n",
       "    <tr>\n",
       "      <th>11</th>\n",
       "      <td>Diciembre</td>\n",
       "      <td>1380</td>\n",
       "      <td>3140</td>\n",
       "      <td>-1760</td>\n",
       "    </tr>\n",
       "  </tbody>\n",
       "</table>\n",
       "</div>"
      ],
      "text/plain": [
       "    Unnamed: 0  Ingreso  Gasto  Utilidad\n",
       "0        Enero     1340   1880      -540\n",
       "1      Febrero     2590   3130      -540\n",
       "2        Marzo     3570   2140      1430\n",
       "3        Abril     4450   3370      1080\n",
       "4         Mayo     1330   2990     -1660\n",
       "5        Junio     1610   1970      -360\n",
       "6        Julio     1500   2230      -730\n",
       "7       Agosto     2270   1240      1030\n",
       "8   Septiembre     1910   1470       440\n",
       "9      Octubre     2120   2280      -160\n",
       "10   Noviembre     3950   1870      2080\n",
       "11   Diciembre     1380   3140     -1760"
      ]
     },
     "execution_count": 9,
     "metadata": {},
     "output_type": "execute_result"
    }
   ],
   "source": [
    "data2 = pd.read_excel(\"datosCT.xlsx\")\n",
    "data2[\"Utilidad\"]=data2[\"Ingreso\"]-data2[\"Gasto\"]\n",
    "data2"
   ]
  },
  {
   "cell_type": "markdown",
   "id": "fa304a54",
   "metadata": {},
   "source": [
    "- encuentra el promedio de Gastos en los meses que la Utilidad fue negativa"
   ]
  },
  {
   "cell_type": "code",
   "execution_count": 28,
   "id": "574820c5",
   "metadata": {},
   "outputs": [
    {
     "name": "stdout",
     "output_type": "stream",
     "text": [
      "En promedio, por mes se gastaron $ 2517.143\n"
     ]
    }
   ],
   "source": [
    "listaGastos= []\n",
    "prom=0\n",
    "for i in range(data2[\"Utilidad\"].size):\n",
    "    if data2.iloc[i][\"Utilidad\"]<0:\n",
    "        listaGastos.append(data2.iloc[i][\"Gasto\"]);\n",
    "for j in range(len(listaGastos)):\n",
    "    prom = listaGastos[j]+ prom\n",
    "prom = prom/len(listaGastos)\n",
    "print(\"En promedio, por mes se gastaron $\", round(prom,3))"
   ]
  },
  {
   "cell_type": "markdown",
   "id": "45f32bb7",
   "metadata": {},
   "source": [
    "- encuentra los ingresos totales del año"
   ]
  },
  {
   "cell_type": "code",
   "execution_count": 33,
   "id": "35dcf950",
   "metadata": {},
   "outputs": [
    {
     "name": "stdout",
     "output_type": "stream",
     "text": [
      "Los ingresos totales del año son $ 28020\n"
     ]
    }
   ],
   "source": [
    "print(\"Los ingresos totales del año son $\", data2[\"Ingreso\"].sum())"
   ]
  }
 ],
 "metadata": {
  "kernelspec": {
   "display_name": "Python 3 (ipykernel)",
   "language": "python",
   "name": "python3"
  },
  "language_info": {
   "codemirror_mode": {
    "name": "ipython",
    "version": 3
   },
   "file_extension": ".py",
   "mimetype": "text/x-python",
   "name": "python",
   "nbconvert_exporter": "python",
   "pygments_lexer": "ipython3",
   "version": "3.9.12"
  }
 },
 "nbformat": 4,
 "nbformat_minor": 5
}
